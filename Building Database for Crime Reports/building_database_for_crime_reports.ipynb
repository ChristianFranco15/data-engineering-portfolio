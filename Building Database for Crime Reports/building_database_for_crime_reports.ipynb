{
 "cells": [
  {
   "cell_type": "markdown",
   "metadata": {
    "collapsed": true
   },
   "source": [
    "# Building Database for Crime Reports\n",
    "\n",
    "## Introduction\n",
    "In this project, we will be creating a database for storing data related to crimes that occurred in Boston. We will also practice creating the table inside a schema, making sure that all the datatypes are correct. Finally, we will also create different user groups which will have different privileges whenever they access the database on our server."
   ]
  },
  {
   "cell_type": "markdown",
   "metadata": {},
   "source": [
    "## Creating the Crime Database\n",
    "\n",
    "In order to create the database, we will have to connect to our Postgres server first. After creating the database, we will also create the schema where our table will be located."
   ]
  },
  {
   "cell_type": "code",
   "execution_count": 1,
   "metadata": {},
   "outputs": [],
   "source": [
    "import configparser\n",
    "\n",
    "config = configparser.ConfigParser()\n",
    "config.read('config.ini')\n",
    "\n",
    "user = config['postgresql']['user']\n",
    "password = config['postgresql']['password']"
   ]
  },
  {
   "cell_type": "code",
   "execution_count": 2,
   "metadata": {},
   "outputs": [],
   "source": [
    "import psycopg2\n",
    "\n",
    "conn = psycopg2.connect(user=user, password=password)\n",
    "conn.autocommit = True\n",
    "cur = conn.cursor()\n",
    "cur.execute(\"CREATE DATABASE crime_db;\")\n",
    "conn.autocommit = False\n",
    "conn.close()"
   ]
  },
  {
   "cell_type": "code",
   "execution_count": 3,
   "metadata": {
    "collapsed": true
   },
   "outputs": [],
   "source": [
    "# Create schema\n",
    "conn = psycopg2.connect(dbname='crime_db', user=user, password=password)\n",
    "cur = conn.cursor()\n",
    "cur.execute(\"CREATE SCHEMA crimes;\")"
   ]
  },
  {
   "cell_type": "markdown",
   "metadata": {},
   "source": [
    "## Obtaining Column Names and Sample\n",
    "\n",
    "Here we will open the file containing the dataset and inspect the header row as well as the first data row to make sure we use the correct datatypes in our table."
   ]
  },
  {
   "cell_type": "code",
   "execution_count": 4,
   "metadata": {},
   "outputs": [
    {
     "name": "stdout",
     "output_type": "stream",
     "text": [
      "['incident_number', 'offense_code', 'description', 'date', 'day_of_the_week', 'lat', 'long']\n",
      "['1', '619', 'LARCENY ALL OTHERS', '2018-09-02', 'Sunday', '42.35779134', '-71.13937053']\n"
     ]
    }
   ],
   "source": [
    "import csv\n",
    "\n",
    "with open('boston.csv', 'r', encoding='latin-1') as f:\n",
    "    reader = csv.reader(f)\n",
    "    data = list(reader)\n",
    "    col_headers = data[0]\n",
    "    first_row = data[1]\n",
    "    print(col_headers)\n",
    "    print(first_row)"
   ]
  },
  {
   "cell_type": "markdown",
   "metadata": {},
   "source": [
    "## Creating an Auxiliary Function\n",
    "\n",
    "Now we will create a function called `get_col_set()` which will return a set with all distinct values contained in a column given the name of a CSV file and a column index. We will use this function to identify the correct datatypes for our columns."
   ]
  },
  {
   "cell_type": "code",
   "execution_count": 5,
   "metadata": {
    "collapsed": true
   },
   "outputs": [],
   "source": [
    "def get_col_set(csv_filename, col_index, encoding=None):\n",
    "    with open(csv_filename, 'r', encoding=encoding) as f:\n",
    "        next(f)  # Skips the header\n",
    "        reader = csv.reader(f)\n",
    "\n",
    "        distinct_values = set()\n",
    "        for row in reader:\n",
    "            distinct_values.add(row[col_index])\n",
    "\n",
    "    return distinct_values"
   ]
  },
  {
   "cell_type": "code",
   "execution_count": 6,
   "metadata": {},
   "outputs": [
    {
     "name": "stdout",
     "output_type": "stream",
     "text": [
      "incident_number 298329\n",
      "offense_code 219\n",
      "description 239\n",
      "date 1177\n",
      "day_of_the_week 7\n",
      "lat 18177\n",
      "long 18177\n"
     ]
    }
   ],
   "source": [
    "for index in range(len(col_headers)):\n",
    "    distinct_values = get_col_set('boston.csv', index, encoding='latin-1')\n",
    "    print(col_headers[index], len(distinct_values))"
   ]
  },
  {
   "cell_type": "markdown",
   "metadata": {},
   "source": [
    "## Finding Maximum Length of Values\n",
    "\n",
    "In order to pick our datatypes correctly, it would be useful to calculate the longest length of any given value for each column. This way, we can make sure to keep the datatypes as simple as possible. Since the `description` column is likely to have the longest values, we will inspect that column first."
   ]
  },
  {
   "cell_type": "code",
   "execution_count": 7,
   "metadata": {},
   "outputs": [
    {
     "name": "stdout",
     "output_type": "stream",
     "text": [
      "58\n"
     ]
    }
   ],
   "source": [
    "description_values = get_col_set('boston.csv', 2, encoding='latin-1')\n",
    "max_len = 0\n",
    "for value in description_values:\n",
    "    max_len = max(max_len, len(value))\n",
    "print(max_len)"
   ]
  },
  {
   "cell_type": "markdown",
   "metadata": {},
   "source": [
    "The maximum length of any given value in the `description` column is 58. To be on the safe side, we will set `n` to be 100. This will give us a varchar datatype in which any string value cannot exceed more than 100 characters."
   ]
  },
  {
   "cell_type": "markdown",
   "metadata": {},
   "source": [
    "## Creating the Table\n",
    "\n",
    "Before creating the table, we can see that the `day_of_the_week` column only contains 7 values. Since each value is unique in this set, we will create an `ENUM` datatype for this column. This is the only datatype we will explicitly create, and we will have to do this before creating the table."
   ]
  },
  {
   "cell_type": "code",
   "execution_count": 8,
   "metadata": {},
   "outputs": [],
   "source": [
    "cur.execute(\"\"\"\n",
    "    CREATE TYPE DAY_ENUM AS ENUM (\n",
    "    'Monday', 'Tuesday', 'Wednesday', 'Thursday', 'Friday', 'Saturday', 'Sunday');\n",
    "\"\"\")"
   ]
  },
  {
   "cell_type": "code",
   "execution_count": 9,
   "metadata": {
    "collapsed": true
   },
   "outputs": [],
   "source": [
    "# Create table\n",
    "cur.execute(\"\"\"\n",
    "    CREATE TABLE crimes.boston_crimes (\n",
    "        incident_id INTEGER PRIMARY KEY,\n",
    "        offense_code INTEGER,\n",
    "        description VARCHAR(100),\n",
    "        date DATE,\n",
    "        day_of_week DAY_ENUM,\n",
    "        lat DECIMAL,\n",
    "        long DECIMAL  \n",
    "    );\n",
    "\"\"\")"
   ]
  },
  {
   "cell_type": "markdown",
   "metadata": {},
   "source": [
    "## Loading the Data\n",
    "\n",
    "Now we will load the data from the `boston.csv` file into the new `crimes.boston_crimes` table that we just made. To do this, we will be using the `cursor.copy_expert()` method."
   ]
  },
  {
   "cell_type": "code",
   "execution_count": 10,
   "metadata": {},
   "outputs": [
    {
     "name": "stdout",
     "output_type": "stream",
     "text": [
      "(1, 619, 'LARCENY ALL OTHERS', datetime.date(2018, 9, 2), 'Sunday', Decimal('42.35779134'), Decimal('-71.13937053'))\n",
      "298329\n"
     ]
    }
   ],
   "source": [
    "with open('boston.csv', 'r', encoding='latin-1') as f:\n",
    "    cur.copy_expert(\"COPY crimes.boston_crimes FROM STDIN WITH CSV HEADER;\", f)\n",
    "\n",
    "# Check if data was loaded successfully\n",
    "cur.execute(\"SELECT * FROM crimes.boston_crimes;\")\n",
    "data = cur.fetchall()\n",
    "# Print first row, number of rows\n",
    "print(data[0])\n",
    "print(len(data))"
   ]
  },
  {
   "cell_type": "markdown",
   "metadata": {},
   "source": [
    "## Revoking Public Privileges\n",
    "\n",
    "Now that our data has loaded into our table successfully, we need to make sure that anyone who tries to access it publicly is denied of that access. To do this, we need to revoke all public privileges from the database and schema. By following the least privilege principle, we can revoke all privileges and then give the user or groups minimum access, if necessary."
   ]
  },
  {
   "cell_type": "code",
   "execution_count": 11,
   "metadata": {},
   "outputs": [],
   "source": [
    "cur.execute(\"REVOKE ALL ON DATABASE crime_db FROM public;\")\n",
    "cur.execute(\"REVOKE ALL ON SCHEMA public FROM public;\")"
   ]
  },
  {
   "cell_type": "markdown",
   "metadata": {},
   "source": [
    "## Creating User Groups\n",
    "\n",
    "Now that we have revoked public access, we want to create a `readonly` group which will only have access to use the `SELECT` statement. We also want to create another group called `readwrite` which will only have access to `SELECT`, `INSERT`, `DELETE`, and `UPDATE` statements."
   ]
  },
  {
   "cell_type": "code",
   "execution_count": 12,
   "metadata": {},
   "outputs": [],
   "source": [
    "# Create readonly and readwrite groups\n",
    "cur.execute(\"CREATE GROUP readonly NOLOGIN;\")\n",
    "cur.execute(\"CREATE GROUP readwrite NOLOGIN;\")\n",
    "\n",
    "# Granting access to database and schema\n",
    "cur.execute(\"GRANT CONNECT ON DATABASE crime_db TO readonly;\")\n",
    "cur.execute(\"GRANT CONNECT ON DATABASE crime_db TO readwrite;\")\n",
    "cur.execute(\"GRANT USAGE ON SCHEMA crimes TO readonly;\")\n",
    "cur.execute(\"GRANT USAGE ON SCHEMA crimes TO readwrite;\")\n",
    "\n",
    "# Granting specific group privileges\n",
    "cur.execute(\"GRANT SELECT ON ALL TABLES IN SCHEMA crimes TO readonly;\")\n",
    "cur.execute(\"\"\"\n",
    "    GRANT SELECT, INSERT, DELETE, UPDATE ON ALL TABLES IN SCHEMA crimes TO readwrite;\n",
    "\"\"\")"
   ]
  },
  {
   "cell_type": "markdown",
   "metadata": {},
   "source": [
    "## Creating Users\n",
    "\n",
    "Now we will practice creating one user for each group."
   ]
  },
  {
   "cell_type": "code",
   "execution_count": 13,
   "metadata": {
    "collapsed": true
   },
   "outputs": [],
   "source": [
    "cur.execute(\"CREATE USER data_analyst WITH PASSWORD 'secret1';\")\n",
    "cur.execute(\"GRANT readonly TO data_analyst;\")\n",
    "cur.execute(\"CREATE USER data_scientist WITH PASSWORD 'secret2';\")\n",
    "cur.execute(\"GRANT readwrite TO data_scientist;\")\n",
    "\n",
    "# Commit all changes to the connection and close it\n",
    "conn.commit()\n",
    "conn.close()"
   ]
  },
  {
   "cell_type": "markdown",
   "metadata": {},
   "source": [
    "## Testing Database\n",
    "\n",
    "Now that we have finished creating our Postgres database, we will test to see if everything is configured as expected. We will query Postgres internal tables to do so."
   ]
  },
  {
   "cell_type": "code",
   "execution_count": 14,
   "metadata": {},
   "outputs": [
    {
     "data": {
      "text/plain": [
       "[('postgres', True, True, True, True),\n",
       " ('readonly', False, False, False, False),\n",
       " ('readwrite', False, False, False, False),\n",
       " ('data_analyst', False, False, False, True),\n",
       " ('data_scientist', False, False, False, True)]"
      ]
     },
     "execution_count": 14,
     "metadata": {},
     "output_type": "execute_result"
    }
   ],
   "source": [
    "# Testing for specific roles\n",
    "conn2 = psycopg2.connect(dbname='crime_db', user=user, password=password)\n",
    "cur2 = conn2.cursor()\n",
    "\n",
    "cur2.execute(\"\"\" \n",
    "    SELECT\n",
    "        rolname,\n",
    "        rolsuper,\n",
    "        rolcreaterole,\n",
    "        rolcreatedb,\n",
    "        rolcanlogin\n",
    "    FROM pg_roles\n",
    "    WHERE rolname IN ('postgres', 'readonly', 'readwrite', 'data_analyst', 'data_scientist');\n",
    "\"\"\")\n",
    "cur2.fetchall()"
   ]
  },
  {
   "cell_type": "code",
   "execution_count": 15,
   "metadata": {},
   "outputs": [
    {
     "data": {
      "text/plain": [
       "[('postgres', 'readonly', 'crime_db', 'crimes', 'boston_crimes', 'SELECT'),\n",
       " ('postgres', 'readwrite', 'crime_db', 'crimes', 'boston_crimes', 'INSERT'),\n",
       " ('postgres', 'readwrite', 'crime_db', 'crimes', 'boston_crimes', 'SELECT'),\n",
       " ('postgres', 'readwrite', 'crime_db', 'crimes', 'boston_crimes', 'UPDATE'),\n",
       " ('postgres', 'readwrite', 'crime_db', 'crimes', 'boston_crimes', 'DELETE')]"
      ]
     },
     "execution_count": 15,
     "metadata": {},
     "output_type": "execute_result"
    }
   ],
   "source": [
    "# Testing for table privileges\n",
    "cur2.execute(\"\"\"\n",
    "    SELECT \n",
    "        grantor,\n",
    "        grantee,\n",
    "        table_catalog,\n",
    "        table_schema,\n",
    "        table_name,\n",
    "        privilege_type\n",
    "    FROM information_schema.table_privileges\n",
    "    WHERE grantee IN ('readonly', 'readwrite');\n",
    "\"\"\")\n",
    "cur2.fetchall()"
   ]
  },
  {
   "cell_type": "code",
   "execution_count": 16,
   "metadata": {},
   "outputs": [],
   "source": [
    "# Close the connection\n",
    "conn2.close()"
   ]
  },
  {
   "cell_type": "markdown",
   "metadata": {},
   "source": [
    "After querying the Postgres internal tables and testing for user roles and privileges, we can confirm that all of our configurations are correct. Only the assigned users can log into the database. Additionally, the `readonly` group can only use the `SELECT` statement, while the `readwrite` group has more privileges."
   ]
  },
  {
   "cell_type": "markdown",
   "metadata": {},
   "source": [
    "## Conclusion\n",
    "\n",
    "In this project we practiced creating a database as well as a table and schema to load real data from a CSV file. We also checked to make sure we were using the correct datatypes for our table. Finally, we practiced creating users and groups while also granting them specific roles and privileges. This last step is very important for maintaining data integrity and security."
   ]
  }
 ],
 "metadata": {
  "kernelspec": {
   "display_name": "Python 3",
   "language": "python",
   "name": "python3"
  },
  "language_info": {
   "codemirror_mode": {
    "name": "ipython",
    "version": 3
   },
   "file_extension": ".py",
   "mimetype": "text/x-python",
   "name": "python",
   "nbconvert_exporter": "python",
   "pygments_lexer": "ipython3",
   "version": "3.8.8"
  }
 },
 "nbformat": 4,
 "nbformat_minor": 2
}
